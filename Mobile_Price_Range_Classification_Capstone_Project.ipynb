{
  "nbformat": 4,
  "nbformat_minor": 0,
  "metadata": {
    "colab": {
      "provenance": [],
      "authorship_tag": "ABX9TyPjMNdBV58e957yw9TB/ITV",
      "include_colab_link": true
    },
    "kernelspec": {
      "name": "python3",
      "display_name": "Python 3"
    },
    "language_info": {
      "name": "python"
    }
  },
  "cells": [
    {
      "cell_type": "markdown",
      "metadata": {
        "id": "view-in-github",
        "colab_type": "text"
      },
      "source": [
        "<a href=\"https://colab.research.google.com/github/sidds4474/Mobile-Price-Range-Classification-ML/blob/main/Mobile_Price_Range_Classification_Capstone_Project.ipynb\" target=\"_parent\"><img src=\"https://colab.research.google.com/assets/colab-badge.svg\" alt=\"Open In Colab\"/></a>"
      ]
    },
    {
      "cell_type": "markdown",
      "source": [
        "# <b><u> Project Title : Mobile Price Range Classification </u></b>"
      ],
      "metadata": {
        "id": "rKh_DeWz0lxY"
      }
    },
    {
      "cell_type": "markdown",
      "source": [
        "## *Problem Description : In this competitive market compnaies want to understand sales data of mobile phones and factors which drive the prices. The objective is to find out some relation between features of mobile phone(eg. RAM, Internal Memory, etc.) and its selling price. In this problem, we don have to predict price but a price range indicating how hiight the price is.*"
      ],
      "metadata": {
        "id": "Dhh27g5-yYbK"
      }
    },
    {
      "cell_type": "markdown",
      "source": [
        "# Attributes in this data:\n",
        "\n",
        "**id**: ID\n",
        "\n",
        "**battery_power**: Total energy a battery can store in one time measured in mAh\n",
        "\n",
        "**blue**: Has bluetooth or not\n",
        "\n",
        "**clock_speed**: speed at which microprocessor executes instructions\n",
        "\n",
        "**dual_sim**: Has dual sim support or not\n",
        "fc:Front Camera mega pixels\n",
        "\n",
        "**four_g**: Has 4G or not\n",
        "\n",
        "**int_memory**: Internal Memory in Gigabytes\n",
        "m_dep:Mobile Depth in cm\n",
        "\n",
        "**mobile_wt**: Weight of mobile phone\n",
        "\n",
        "**n_cores**: Number of cores of processor\n",
        "\n",
        "**pc**: Primary Camera mega pixels\n",
        "\n",
        "**px_height**: Pixel Resolution Height\n",
        "\n",
        "**px_width**: Pixel Resolution Width\n",
        "\n",
        "**ram**: Random Access Memory in Megabytes\n",
        "\n",
        "**sc_h**: Screen Height of mobile in cm\n",
        "\n",
        "**sc_w**: Screen Width of mobile in cm\n",
        "\n",
        "**talk_time**: Longest time that a single battery charge will last when you are\n",
        "\n",
        "**three_g**: Has 3G or not\n",
        "\n",
        "**touch_screen**: Has touch screen or not\n",
        "\n",
        "**wifi**: Has wifi or not"
      ],
      "metadata": {
        "id": "aQ9S8VbDzTgO"
      }
    },
    {
      "cell_type": "code",
      "source": [
        "import pandas as pd\n",
        "import numpy as np\n",
        "import matplotlib.pyplot as plt\n",
        "import warnings\n",
        "%matplotlib inline\n",
        "warnings.filterwarnings('ignore')\n",
        "pd.options.display.max_columns = 999"
      ],
      "metadata": {
        "id": "KQMRsThAztI0"
      },
      "execution_count": null,
      "outputs": []
    },
    {
      "cell_type": "code",
      "source": [
        "# Mounting the google drive\n",
        "\n",
        "from google.colab import drive\n",
        "drive.mount('/content/drive')"
      ],
      "metadata": {
        "colab": {
          "base_uri": "https://localhost:8080/"
        },
        "id": "pXn2FNxe1WR1",
        "outputId": "17f2e113-48e8-45d9-b293-09ecec6d05d3"
      },
      "execution_count": null,
      "outputs": [
        {
          "output_type": "stream",
          "name": "stdout",
          "text": [
            "Mounted at /content/drive\n"
          ]
        }
      ]
    }
  ]
}